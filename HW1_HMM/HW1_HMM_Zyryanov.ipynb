{
 "cells": [
  {
   "cell_type": "code",
   "execution_count": 2,
   "metadata": {},
   "outputs": [],
   "source": [
    "import re\n",
    "from collections import Counter, defaultdict\n",
    "from conllu import parse\n",
    "\n",
    "import nltk\n",
    "from nltk.corpus import conll2000\n",
    "conll2000.ensure_loaded()"
   ]
  },
  {
   "cell_type": "code",
   "execution_count": 3,
   "metadata": {},
   "outputs": [],
   "source": [
    "#accuracy counter\n",
    "def accuracy(test_sents, postagger):\n",
    "    errors = 0\n",
    "    length = 0\n",
    "    for sent in test_sents:\n",
    "        length += len(sent)\n",
    "        sent, real_tags = zip(*sent)\n",
    "        my_tags = postagger.tag(sent)\n",
    "        for i in range(len(my_tags)):\n",
    "            if my_tags[i][1] != real_tags[i]:\n",
    "                errors += 1\n",
    "    return 1 - errors / length\n",
    "\n",
    "#normalizer\n",
    "class BaseNormalizer:\n",
    "    def normalize(self, counter):\n",
    "        sum_ = sum(counter.values())\n",
    "        for token in counter:\n",
    "            counter[token] /= sum_"
   ]
  },
  {
   "cell_type": "code",
   "execution_count": 4,
   "metadata": {},
   "outputs": [],
   "source": [
    "#loading and parsing data\n",
    "with open('en_ewt-ud-train.conllu.txt', 'r', encoding = 'utf-8') as f:\n",
    "    train_raw = f.read()\n",
    "train = parse(train_raw)\n",
    "with open('en_ewt-ud-test.conllu.txt', 'r', encoding = 'utf-8') as f:\n",
    "    test_raw = f.read()\n",
    "test = parse(test_raw)\n",
    "\n",
    "train_sample = []\n",
    "for sent in train:\n",
    "    sent_parsed = []\n",
    "    for token in sent:\n",
    "        sent_parsed.append((token['form'], token['upostag']))\n",
    "    train_sample.append(sent_parsed)\n",
    "test_sample = []\n",
    "for sent in test:\n",
    "    sent_parsed = []\n",
    "    for token in sent:\n",
    "        sent_parsed.append((token['form'], token['upostag']))\n",
    "    test_sample.append(sent_parsed)\n",
    "    \n",
    "train_conll2000 = conll2000.tagged_sents()[:8000]\n",
    "test_conll2000 = conll2000.tagged_sents()[8000:]"
   ]
  },
  {
   "cell_type": "code",
   "execution_count": 5,
   "metadata": {},
   "outputs": [],
   "source": [
    "class BiTagger:\n",
    "    def __init__(self, train_sample, normalizer=BaseNormalizer()):\n",
    "        self.normalizer = normalizer\n",
    "        self.create_emission(train_sample)\n",
    "        self.create_transition(train_sample)\n",
    "        self.tags_extraction(train_sample)\n",
    "        self.taglist_extraction()\n",
    "        \n",
    "    def tags_extraction(self, train_sample):\n",
    "        tags = []\n",
    "        for sent in train_sample:\n",
    "            sent_parsed = []\n",
    "            for el in sent:\n",
    "                sent_parsed.append(el[1])\n",
    "            tags.append(sent_parsed)\n",
    "        self.all_tags = tags\n",
    "        return self.all_tags\n",
    "    \n",
    "    def taglist_extraction(self):\n",
    "        unique = []\n",
    "        for sent in self.all_tags:\n",
    "            for tag in sent:\n",
    "                if tag not in unique:\n",
    "                    unique.append(tag)\n",
    "        self.unique_tags = unique\n",
    "        return self.unique_tags\n",
    "    \n",
    "    def create_emission(self, train_sample):\n",
    "        self.em = defaultdict(Counter)\n",
    "        for sent in train_sample:\n",
    "            for word, tag in sent:\n",
    "                self.em[tag][word] += 1\n",
    "                self.em['UNK'][word] += 1\n",
    "        for tag in self.em:\n",
    "            self.normalizer.normalize(self.em[tag])\n",
    "        return self.em\n",
    "    \n",
    "    def create_transition(self, train_sample):\n",
    "        self.tm = defaultdict(Counter)\n",
    "        all_tags = self.tags_extraction(train_sample)\n",
    "        for sent in all_tags:\n",
    "            for i, tag in enumerate(sent):\n",
    "                if i == 0:\n",
    "                    self.tm['START'][sent[0]] += 1\n",
    "                else:\n",
    "                    self.tm[sent[i-1]][sent[i]] += 1\n",
    "        for el in self.tm:\n",
    "            self.normalizer.normalize(self.tm[el])\n",
    "        return self.tm\n",
    "    \n",
    "    def tag(self, sent):\n",
    "        tags = []\n",
    "        unique_tags = self.taglist_extraction()\n",
    "        for i, word in enumerate(sent):\n",
    "            max_prob = 0\n",
    "            best_tag = 'UNK'\n",
    "            if i == 0:\n",
    "                t_back = 'START'\n",
    "            else:\n",
    "                t_back = tags[i-1]\n",
    "            for t in unique_tags:\n",
    "                prob = self.em[t][word[0]] * self.tm[t_back][t]\n",
    "                if prob > max_prob:\n",
    "                    max_prob, best_tag = prob, t\n",
    "            tags.append(best_tag)\n",
    "        return list(zip(sent, tags))"
   ]
  },
  {
   "cell_type": "code",
   "execution_count": 6,
   "metadata": {},
   "outputs": [],
   "source": [
    "a = BiTagger(train_sample)\n",
    "b = BiTagger(train_conll2000)"
   ]
  },
  {
   "cell_type": "code",
   "execution_count": 7,
   "metadata": {},
   "outputs": [
    {
     "name": "stdout",
     "output_type": "stream",
     "text": [
      "Точность разметки при обучении по корпусу UD: 0.21022432960114756\n"
     ]
    }
   ],
   "source": [
    "#никак не могу найти ошибку, из-за которой точность такая низкая :(#\n",
    "\n",
    "ud_acc = accuracy(test_sample, a)\n",
    "print('Точность разметки при обучении по корпусу UD:', ud_acc)"
   ]
  },
  {
   "cell_type": "code",
   "execution_count": 8,
   "metadata": {},
   "outputs": [
    {
     "name": "stdout",
     "output_type": "stream",
     "text": [
      "Точность разметки при обучении по корпусу conll2000: 0.01968242990115554\n"
     ]
    }
   ],
   "source": [
    "conll2000_acc = accuracy(test_conll2000, b)\n",
    "print('Точность разметки при обучении по корпусу conll2000:', conll2000_acc)"
   ]
  },
  {
   "cell_type": "code",
   "execution_count": null,
   "metadata": {},
   "outputs": [],
   "source": []
  }
 ],
 "metadata": {
  "kernelspec": {
   "display_name": "Python 3",
   "language": "python",
   "name": "python3"
  },
  "language_info": {
   "codemirror_mode": {
    "name": "ipython",
    "version": 3
   },
   "file_extension": ".py",
   "mimetype": "text/x-python",
   "name": "python",
   "nbconvert_exporter": "python",
   "pygments_lexer": "ipython3",
   "version": "3.6.5"
  }
 },
 "nbformat": 4,
 "nbformat_minor": 2
}
