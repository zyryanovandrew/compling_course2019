{
 "cells": [
  {
   "cell_type": "code",
   "execution_count": 1,
   "metadata": {},
   "outputs": [],
   "source": [
    "import ufal.udpipe\n",
    "from ufal.udpipe import Trainer\n",
    "import os\n",
    "import conllu"
   ]
  },
  {
   "cell_type": "code",
   "execution_count": 2,
   "metadata": {},
   "outputs": [],
   "source": [
    "#Implementing a processing pipeline, which inclides tokenization, morphological tagging and syntactic parsing\n",
    "#Source: https://github.com/ufal/udpipe/tree/master/bindings/python/examples\n",
    "\n",
    "class Model:\n",
    "    def __init__(self, model):\n",
    "        \"\"\"Load given model.\"\"\"\n",
    "        self.model = model\n",
    "        if not self.model:\n",
    "            raise Exception(\"Cannot load UDPipe model from file '%s'\" % model)\n",
    "\n",
    "    def tokenize(self, text):\n",
    "        \"\"\"Tokenize the text and return list of ufal.udpipe.Sentence-s.\"\"\"\n",
    "        tokenizer = self.model.newTokenizer(self.model.DEFAULT)\n",
    "        if not tokenizer:\n",
    "            raise Exception(\"The model does not have a tokenizer\")\n",
    "        return self._read(text, tokenizer)\n",
    "\n",
    "    def read(self, text, format):\n",
    "        \"\"\"Load text in the given format (conllu|horizontal|vertical) and return list of ufal.udpipe.Sentence-s.\"\"\"\n",
    "        input_format = ufal.udpipe.InputFormat.newInputFormat(format)\n",
    "        if not input_format:\n",
    "            raise Exception(\"Cannot create input format '%s'\" % format)\n",
    "        return self._read(text, input_format)\n",
    "\n",
    "    def _read(self, text, input_format):\n",
    "        input_format.setText(text)\n",
    "        error = ufal.udpipe.ProcessingError()\n",
    "        sentences = []\n",
    "\n",
    "        sentence = ufal.udpipe.Sentence()\n",
    "        while input_format.nextSentence(sentence, error):\n",
    "            sentences.append(sentence)\n",
    "            sentence = ufal.udpipe.Sentence()\n",
    "        if error.occurred():\n",
    "            raise Exception(error.message)\n",
    "\n",
    "        return sentences\n",
    "\n",
    "    def tag(self, sentence):\n",
    "        \"\"\"Tag the given ufal.udpipe.Sentence (inplace).\"\"\"\n",
    "        self.model.tag(sentence, self.model.DEFAULT)\n",
    "\n",
    "    def parse(self, sentence):\n",
    "        \"\"\"Parse the given ufal.udpipe.Sentence (inplace).\"\"\"\n",
    "        self.model.parse(sentence, self.model.DEFAULT)\n",
    "\n",
    "    def write(self, sentences, format):\n",
    "        \"\"\"Write given ufal.udpipe.Sentence-s in the required format (conllu|horizontal|vertical).\"\"\"\n",
    "\n",
    "        output_format = ufal.udpipe.OutputFormat.newOutputFormat(format)\n",
    "        output = ''\n",
    "        for sentence in sentences:\n",
    "            output += output_format.writeSentence(sentence)\n",
    "        output += output_format.finishDocument()\n",
    "        return output\n",
    "    \n",
    "def process(raw_model, text):\n",
    "    model = Model(raw_model)\n",
    "    sentences = model.tokenize(text)\n",
    "    for sent in sentences:\n",
    "        model.tag(sent)\n",
    "        model.parse(sent)\n",
    "    output = model.write(sentences, \"conllu\")\n",
    "    return output"
   ]
  },
  {
   "cell_type": "code",
   "execution_count": 3,
   "metadata": {},
   "outputs": [],
   "source": [
    "#Parsing the test text using the model pre-trained on UD2017 data \n",
    "model_conll17 = ufal.udpipe.Model.load('russian-syntagrus-ud-2.3-181115.udpipe')\n",
    "with open('UD_Russian-SynTagRus/ru_syntagrus-ud-dev.txt', 'r', encoding = 'utf-8') as f:\n",
    "    input_text = f.read()[:10000]\n",
    "    parsed = process(model_conll17, input_text)"
   ]
  },
  {
   "cell_type": "code",
   "execution_count": 4,
   "metadata": {},
   "outputs": [
    {
     "name": "stdout",
     "output_type": "stream",
     "text": [
      "# newdoc\n",
      "# newpar\n",
      "# sent_id = 1\n",
      "# text = Алгоритм, от имени учёного аль-Хорезми, - точный набор инструкций, описывающих порядок действий исполнителя для достижения результата решения задачи за конечное время.\n",
      "1\tАлгоритм\tалгоритм\tNOUN\t_\tAnimacy=Inan|Case=Nom|Gender=Masc|Number=Sing\t0\troot\t_\tSpaceAfter=No\n",
      "2\t,\t,\tPUNCT\t_\t_\t4\tpunct\t_\t_\n",
      "3\tот\tот\tADP\t_\t_\t4\tcase\t_\t_\n",
      "4\tимени\tимя\tNOUN\t_\tAnimacy=Inan|Case=Gen|Gender=Neut|Number=Sing\t1\tconj\t_\t_\n",
      "5\tучёного\tучёной\tNOUN\t_\tAnimacy=Anim|Case=Gen|Gender=Masc|Number=Sing\t4\tnmod\t_\t_\n",
      "6\tаль\tаль\tPART\t_\t_\t8\tcompound\t_\tSpaceAfter=No\n",
      "7\t-\t-\tPUNCT\t_\t_\t6\tpunct\t_\tSpaceAfter=No\n",
      "8\tХорезми\tХорезй\tADJ\t_\tCase=Ins|Degree=Pos|Number=Plur\t4\tobl\t_\tSpaceAfter=No\n",
      "9\t,\t,\tPUNCT\t_\t_\t8\tpunct\t_\t_\n",
      "10\t-\t-\tPUNCT\t_\t_\t12\tpunct\t_\t_\n",
      "11\tточный\tточный\tADJ\t_\tCase=Nom|Degree=Pos|Gender=Masc|Number=Sing\t12\tamod\t_\t_\n",
      "12\tнабор\tнабор\tNOUN\t_\tAnimacy=Inan|Case=Nom|Gender=Masc|Number=Sing\t4\tnsubj\t_\t_\n",
      "13\tинструкций\tинструкция\tNOUN\t_\tAnimacy=Inan|Case=Gen|Gender=Fem|Number=Plur\t12\tnmod\t_\tSpaceAfter=No\n",
      "14\n"
     ]
    }
   ],
   "source": [
    "print(parsed[:1000])"
   ]
  },
  {
   "cell_type": "code",
   "execution_count": 5,
   "metadata": {},
   "outputs": [],
   "source": [
    "#loading 2018 UD data for subsequent model training\n",
    "import codecs\n",
    "with codecs.open('UD_Russian-SynTagRus/ru_syntagrus-ud-train.conllu', 'r', encoding='utf-8', errors='replace') as f:\n",
    "    text = f.read()\n",
    "    #в следующих трех строчках я попытался заменить все не-ascii символы, но ошибка все равно возникает\n",
    "    import string\n",
    "    printable = set(string.printable)\n",
    "    filter(lambda x: x in printable, text)\n",
    "    input_format = ufal.udpipe.InputFormat.newInputFormat('conllu')\n",
    "    input_format.setText(text)\n",
    "    error = ufal.udpipe.ProcessingError()\n",
    "    data18 = []\n",
    "    sentence = ufal.udpipe.Sentence()\n",
    "    while input_format.nextSentence(sentence, error):\n",
    "        data18.append(sentence)\n",
    "        sentence = ufal.udpipe.Sentence()\n",
    "    if error.occurred():\n",
    "        raise Exception(error.message)"
   ]
  },
  {
   "cell_type": "code",
   "execution_count": 6,
   "metadata": {},
   "outputs": [
    {
     "ename": "UnicodeDecodeError",
     "evalue": "'utf-8' codec can't decode byte 0x8b in position 25: invalid start byte",
     "output_type": "error",
     "traceback": [
      "\u001b[1;31m---------------------------------------------------------------------------\u001b[0m",
      "\u001b[1;31mUnicodeDecodeError\u001b[0m                        Traceback (most recent call last)",
      "\u001b[1;32m<ipython-input-6-0e024f950ac7>\u001b[0m in \u001b[0;36m<module>\u001b[1;34m()\u001b[0m\n\u001b[0;32m      1\u001b[0m \u001b[1;31m#Training model based on 2018 UD data\u001b[0m\u001b[1;33m\u001b[0m\u001b[1;33m\u001b[0m\u001b[0m\n\u001b[1;32m----> 2\u001b[1;33m \u001b[0mmodel_conll18\u001b[0m \u001b[1;33m=\u001b[0m \u001b[0mTrainer\u001b[0m\u001b[1;33m.\u001b[0m\u001b[0mtrain\u001b[0m\u001b[1;33m(\u001b[0m\u001b[1;34m'morphodita_parsito'\u001b[0m\u001b[1;33m,\u001b[0m \u001b[0mdata18\u001b[0m\u001b[1;33m[\u001b[0m\u001b[1;33m:\u001b[0m\u001b[1;36m1000\u001b[0m\u001b[1;33m]\u001b[0m\u001b[1;33m,\u001b[0m \u001b[0mdata18\u001b[0m\u001b[1;33m[\u001b[0m\u001b[1;36m1001\u001b[0m\u001b[1;33m:\u001b[0m\u001b[1;36m1500\u001b[0m\u001b[1;33m]\u001b[0m\u001b[1;33m,\u001b[0m \u001b[1;34m'epochs=3'\u001b[0m\u001b[1;33m,\u001b[0m \u001b[0mTrainer\u001b[0m\u001b[1;33m.\u001b[0m\u001b[0mDEFAULT\u001b[0m\u001b[1;33m,\u001b[0m \u001b[1;34m'iterations=3'\u001b[0m\u001b[1;33m)\u001b[0m\u001b[1;33m\u001b[0m\u001b[0m\n\u001b[0m",
      "\u001b[1;31mUnicodeDecodeError\u001b[0m: 'utf-8' codec can't decode byte 0x8b in position 25: invalid start byte"
     ]
    }
   ],
   "source": [
    "#Training model based on 2018 UD data\n",
    "model_conll18 = Trainer.train('morphodita_parsito', data18[:1000], data18[1001:1500], 'epochs=3', Trainer.DEFAULT, 'iterations=3')"
   ]
  },
  {
   "cell_type": "code",
   "execution_count": 7,
   "metadata": {},
   "outputs": [
    {
     "ename": "NameError",
     "evalue": "name 'model_conll18' is not defined",
     "output_type": "error",
     "traceback": [
      "\u001b[1;31m---------------------------------------------------------------------------\u001b[0m",
      "\u001b[1;31mNameError\u001b[0m                                 Traceback (most recent call last)",
      "\u001b[1;32m<ipython-input-7-bb7fbcad8cf8>\u001b[0m in \u001b[0;36m<module>\u001b[1;34m()\u001b[0m\n\u001b[0;32m      1\u001b[0m \u001b[1;32mwith\u001b[0m \u001b[0mopen\u001b[0m\u001b[1;33m(\u001b[0m\u001b[1;34m'UD_Russian-SynTagRus/ru_syntagrus-ud-dev.txt'\u001b[0m\u001b[1;33m,\u001b[0m \u001b[1;34m'r'\u001b[0m\u001b[1;33m,\u001b[0m \u001b[0mencoding\u001b[0m \u001b[1;33m=\u001b[0m \u001b[1;34m'utf-8'\u001b[0m\u001b[1;33m)\u001b[0m \u001b[1;32mas\u001b[0m \u001b[0mf\u001b[0m\u001b[1;33m:\u001b[0m\u001b[1;33m\u001b[0m\u001b[0m\n\u001b[0;32m      2\u001b[0m     \u001b[0minput_text\u001b[0m \u001b[1;33m=\u001b[0m \u001b[0mf\u001b[0m\u001b[1;33m.\u001b[0m\u001b[0mread\u001b[0m\u001b[1;33m(\u001b[0m\u001b[1;33m)\u001b[0m\u001b[1;33m[\u001b[0m\u001b[1;33m:\u001b[0m\u001b[1;36m10000\u001b[0m\u001b[1;33m]\u001b[0m\u001b[1;33m\u001b[0m\u001b[0m\n\u001b[1;32m----> 3\u001b[1;33m     \u001b[0mparsed\u001b[0m \u001b[1;33m=\u001b[0m \u001b[0mprocess\u001b[0m\u001b[1;33m(\u001b[0m\u001b[0mmodel_conll18\u001b[0m\u001b[1;33m,\u001b[0m \u001b[0minput_text\u001b[0m\u001b[1;33m)\u001b[0m\u001b[1;33m\u001b[0m\u001b[0m\n\u001b[0m",
      "\u001b[1;31mNameError\u001b[0m: name 'model_conll18' is not defined"
     ]
    }
   ],
   "source": [
    "with open('UD_Russian-SynTagRus/ru_syntagrus-ud-dev.txt', 'r', encoding = 'utf-8') as f:\n",
    "    input_text = f.read()[:10000]\n",
    "    parsed = process(model_conll18, input_text)"
   ]
  },
  {
   "cell_type": "code",
   "execution_count": 12,
   "metadata": {},
   "outputs": [
    {
     "name": "stdout",
     "output_type": "stream",
     "text": [
      "[TokenList<Алгоритм, ,, от, имени, учёного, аль, -, Хорезми, ,, -, точный, набор, инструкций, ,, описывающих, порядок, действий, исполнителя, для, достижения, результата, решения, задачи, за, конечное, время, .>, TokenList<В, старой, трактовке, вместо, слова, \", порядок, \", использовалось, слово, \", последовательность, \", ,, но, по, мере, развития, параллельности, в, работе, компьютеров, слово, \", последовательность, \", стали, заменять, более, общим, словом, \", порядок, \", .>, TokenList<Это, связано, с, тем, ,, что, работа, каких-то, инструкций, алгоритма, может, быть, зависима, от, других, инструкций, или, результатов, их, работы, .>, TokenList<Таким, образом, ,, некоторые, инструкции, должны, выполняться, строго, после, завершения, работы, инструкций, ,, от, которых, они, зависят, .>, TokenList<Независимые, инструкции, или, инструкции, ,, ставшие, независимыми, из-за, завершения, работы, инструкций, ,, от, которых, они, зависят, ,, могут, выполняться, в, произвольном, порядке, ,, параллельно, или, одновременно, ,, если, это, позволяют, используемые, процессор, и, операционная, система, .>]\n"
     ]
    }
   ],
   "source": [
    "#Loading test data - the golden standard for further models to be compared to\n",
    "with open('UD_Russian-SynTagRus/ru_syntagrus-ud-dev.conllu', 'r', encoding = 'utf-8') as f:\n",
    "    "
   ]
  }
 ],
 "metadata": {
  "kernelspec": {
   "display_name": "Python 3",
   "language": "python",
   "name": "python3"
  },
  "language_info": {
   "codemirror_mode": {
    "name": "ipython",
    "version": 3
   },
   "file_extension": ".py",
   "mimetype": "text/x-python",
   "name": "python",
   "nbconvert_exporter": "python",
   "pygments_lexer": "ipython3",
   "version": "3.6.5"
  }
 },
 "nbformat": 4,
 "nbformat_minor": 2
}
